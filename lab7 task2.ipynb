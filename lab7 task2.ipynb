{
 "cells": [
  {
   "cell_type": "code",
   "execution_count": 3,
   "id": "1908ed04-7778-40d0-9122-a83154a60788",
   "metadata": {},
   "outputs": [
    {
     "name": "stdout",
     "output_type": "stream",
     "text": [
      "Mean Squared Error (MSE): 10.025834476451552\n",
      "R-Squared Score (R2): 0.8496124828532268\n",
      "\n",
      "Predicted vs Actual Grades:\n",
      "   Actual  Predicted\n",
      "8      55  49.611111\n",
      "1      75  75.000000\n",
      "5      65  63.981481\n"
     ]
    }
   ],
   "source": [
    "import pandas as pd\n",
    "from sklearn.model_selection import train_test_split\n",
    "from sklearn.linear_model import LinearRegression\n",
    "from sklearn.metrics import mean_squared_error, r2_score\n",
    "\n",
    "data = {\n",
    "    \"GPA\": [3.5, 3.0, 3.8, 2.8, 3.2, 3.1, 3.6, 3.9, 3.0, 2.7],\n",
    "    \"Attendance\": [90, 85, 95, 70, 80, 75, 85, 95, 65, 60],\n",
    "    \"Study_Hours\": [15, 10, 20, 8, 12, 10, 18, 22, 5, 7],\n",
    "    \"Prerequisite_Grade\": [85, 80, 90, 65, 75, 70, 88, 92, 60, 55],\n",
    "    \"Final_Grade\": [80, 75, 88, 60, 70, 65, 85, 90, 55, 50],\n",
    "}\n",
    "\n",
    "df = pd.DataFrame(data)\n",
    "\n",
    "X = df[[\"GPA\", \"Attendance\", \"Study_Hours\", \"Prerequisite_Grade\"]]\n",
    "y = df[\"Final_Grade\"]\n",
    "\n",
    "X_train, X_test, y_train, y_test = train_test_split(X, y, test_size=0.3, random_state=42)\n",
    "\n",
    "model = LinearRegression()\n",
    "model.fit(X_train, y_train)\n",
    "\n",
    "y_pred = model.predict(X_test)\n",
    "mse = mean_squared_error(y_test, y_pred)\n",
    "r2 = r2_score(y_test, y_pred)\n",
    "print(\"Mean Squared Error (MSE):\", mse)\n",
    "print(\"R-Squared Score (R2):\", r2)\n",
    "predicted_vs_actual = pd.DataFrame({\"Actual\": y_test, \"Predicted\": y_pred})\n",
    "print(\"\\nPredicted vs Actual Grades:\")\n",
    "print(predicted_vs_actual)\n"
   ]
  },
  {
   "cell_type": "code",
   "execution_count": null,
   "id": "944873e0-e6fb-4e09-9584-c0abcdebc59a",
   "metadata": {},
   "outputs": [],
   "source": []
  }
 ],
 "metadata": {
  "kernelspec": {
   "display_name": "Python 3 (ipykernel)",
   "language": "python",
   "name": "python3"
  },
  "language_info": {
   "codemirror_mode": {
    "name": "ipython",
    "version": 3
   },
   "file_extension": ".py",
   "mimetype": "text/x-python",
   "name": "python",
   "nbconvert_exporter": "python",
   "pygments_lexer": "ipython3",
   "version": "3.12.7"
  }
 },
 "nbformat": 4,
 "nbformat_minor": 5
}
