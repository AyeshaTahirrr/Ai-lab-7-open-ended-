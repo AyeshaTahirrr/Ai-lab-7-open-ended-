{
 "cells": [
  {
   "cell_type": "code",
   "execution_count": 3,
   "id": "e33ca795-147a-46f6-8682-8d42b6cfb497",
   "metadata": {},
   "outputs": [
    {
     "name": "stdout",
     "output_type": "stream",
     "text": [
      "    Symptom_1  Symptom_2  Symptom_3  Cluster  Diagnosis\n",
      "0           5          3          7        1  Disease B\n",
      "1           2          7          2        0  Disease A\n",
      "2           8          6          9        1  Disease B\n",
      "3           7          8          8        1  Disease B\n",
      "4           3          2          3        0  Disease A\n",
      "5           6          5          6        1  Disease B\n",
      "6           4          4          5        0  Disease A\n",
      "7           9          7         10        1  Disease B\n",
      "8           1          1          1        0  Disease A\n",
      "9           8          9          9        1  Disease B\n",
      "10          7          6          8        1  Disease B\n"
     ]
    }
   ],
   "source": [
    "import os\n",
    "os.environ[\"OMP_NUM_THREADS\"] = \"1\"  \n",
    "import pandas as pd\n",
    "from sklearn.cluster import KMeans\n",
    "data = {\n",
    "    \"Symptom_1\": [5, 2, 8, 7, 3, 6, 4, 9, 1, 8, 7,],\n",
    "    \"Symptom_2\": [3, 7, 6, 8, 2, 5, 4, 7, 1, 9, 6,],\n",
    "    \"Symptom_3\": [7, 2, 9, 8, 3, 6, 5, 10, 1, 9, 8],\n",
    "}\n",
    "df = pd.DataFrame(data)\n",
    "kmeans = KMeans(n_clusters=2, random_state=42)\n",
    "df[\"Cluster\"] = kmeans.fit_predict(df)\n",
    "df[\"Diagnosis\"] = df[\"Cluster\"].map({0: \"Disease A\", 1: \"Disease B\"})\n",
    "print(df)"
   ]
  },
  {
   "cell_type": "code",
   "execution_count": null,
   "id": "7ee980d8-e498-4137-b608-a7247a590227",
   "metadata": {},
   "outputs": [],
   "source": []
  }
 ],
 "metadata": {
  "kernelspec": {
   "display_name": "Python 3 (ipykernel)",
   "language": "python",
   "name": "python3"
  },
  "language_info": {
   "codemirror_mode": {
    "name": "ipython",
    "version": 3
   },
   "file_extension": ".py",
   "mimetype": "text/x-python",
   "name": "python",
   "nbconvert_exporter": "python",
   "pygments_lexer": "ipython3",
   "version": "3.12.7"
  }
 },
 "nbformat": 4,
 "nbformat_minor": 5
}
