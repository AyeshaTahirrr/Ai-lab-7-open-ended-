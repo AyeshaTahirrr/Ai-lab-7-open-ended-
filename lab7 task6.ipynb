{
 "cells": [
  {
   "cell_type": "code",
   "execution_count": 5,
   "id": "248fcb25-c561-42dc-aa83-5c7e71217d7b",
   "metadata": {},
   "outputs": [
    {
     "name": "stdout",
     "output_type": "stream",
     "text": [
      "\n",
      "Mean Squared Error (MSE): 12872781822.952166\n",
      "R-squared Score: 0.527122300381349\n",
      "\n",
      "Predicted vs Actual Prices:\n",
      "   Actual Price ($)  Predicted Price ($)\n",
      "8            850000        774498.567335\n",
      "1            450000        615367.150697\n",
      "5            700000        774643.047934\n"
     ]
    }
   ],
   "source": [
    "import pandas as pd\n",
    "from sklearn.model_selection import train_test_split\n",
    "from sklearn.linear_model import LinearRegression\n",
    "from sklearn.metrics import mean_squared_error, r2_score\n",
    "\n",
    "data = {\n",
    "    \"Size (sq ft)\": [1500, 1800, 2400, 3000, 3500, 4000, 4500, 5000, 5500, 6000],\n",
    "    \"Rooms\": [3, 4, 4, 5, 5, 6, 6, 7, 7, 8],\n",
    "    \"Age (years)\": [10, 15, 20, 5, 10, 15, 20, 5, 7, 8],\n",
    "    \"Price ($)\": [400000, 450000, 600000, 650000, 650000, 700000, 750000, 800000, 850000, 900000],\n",
    "}\n",
    "\n",
    "df = pd.DataFrame(data)\n",
    "\n",
    "X = df[[\"Size (sq ft)\", \"Rooms\", \"Age (years)\"]]\n",
    "y = df[\"Price ($)\"]\n",
    "\n",
    "X_train, X_test, y_train, y_test = train_test_split(X, y, test_size=0.3, random_state=42)\n",
    "\n",
    "model = LinearRegression()\n",
    "model.fit(X_train, y_train)\n",
    "\n",
    "y_pred = model.predict(X_test)\n",
    "\n",
    "mse = mean_squared_error(y_test, y_pred)\n",
    "r2 = r2_score(y_test, y_pred)\n",
    "\n",
    "print(\"\\nMean Squared Error (MSE):\", mse)\n",
    "print(\"R-squared Score:\", r2)\n",
    "\n",
    "predicted_vs_actual = pd.DataFrame({\"Actual Price ($)\": y_test, \"Predicted Price ($)\": y_pred})\n",
    "print(\"\\nPredicted vs Actual Prices:\")\n",
    "print(predicted_vs_actual)\n"
   ]
  },
  {
   "cell_type": "code",
   "execution_count": null,
   "id": "c735993f-1a4e-41ed-8365-6ec902a3b7af",
   "metadata": {},
   "outputs": [],
   "source": []
  }
 ],
 "metadata": {
  "kernelspec": {
   "display_name": "Python 3 (ipykernel)",
   "language": "python",
   "name": "python3"
  },
  "language_info": {
   "codemirror_mode": {
    "name": "ipython",
    "version": 3
   },
   "file_extension": ".py",
   "mimetype": "text/x-python",
   "name": "python",
   "nbconvert_exporter": "python",
   "pygments_lexer": "ipython3",
   "version": "3.12.7"
  }
 },
 "nbformat": 4,
 "nbformat_minor": 5
}
