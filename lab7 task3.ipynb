{
 "cells": [
  {
   "cell_type": "code",
   "execution_count": 5,
   "id": "f9671914-710c-4d9c-beeb-2fc74178f868",
   "metadata": {},
   "outputs": [
    {
     "name": "stdout",
     "output_type": "stream",
     "text": [
      "\n",
      "Classification Report:\n",
      "              precision    recall  f1-score   support\n",
      "\n",
      "    Not Spam       1.00      1.00      1.00         2\n",
      "        Spam       1.00      1.00      1.00         1\n",
      "\n",
      "    accuracy                           1.00         3\n",
      "   macro avg       1.00      1.00      1.00         3\n",
      "weighted avg       1.00      1.00      1.00         3\n",
      "\n"
     ]
    }
   ],
   "source": [
    "import pandas as pd\n",
    "from sklearn.feature_extraction.text import CountVectorizer\n",
    "from sklearn.model_selection import train_test_split\n",
    "from sklearn.naive_bayes import MultinomialNB\n",
    "from sklearn.metrics import classification_report\n",
    "\n",
    "data = {\n",
    "    \"Email\": [\n",
    "        \"Win a million dollars now\",\n",
    "        \"Meeting at 3 PM\",\n",
    "        \"Claim your free prize\",\n",
    "        \"Lunch with team\",\n",
    "        \"Get your discount today\",\n",
    "        \"Team meeting rescheduled\",\n",
    "        \"Congratulations! You've won\",\n",
    "        \"Project deadline is tomorrow\",\n",
    "    ],\n",
    "    \"Label\": [\"Spam\", \"Not Spam\", \"Spam\", \"Not Spam\", \"Spam\", \"Not Spam\", \"Spam\", \"Not Spam\"],\n",
    "}\n",
    "\n",
    "df = pd.DataFrame(data)\n",
    "\n",
    "X = df[\"Email\"]\n",
    "y = df[\"Label\"]\n",
    "\n",
    "vectorizer = CountVectorizer()\n",
    "X_transformed = vectorizer.fit_transform(X)\n",
    "\n",
    "X_train, X_test, y_train, y_test = train_test_split(X_transformed, y, test_size=0.3, random_state=42, stratify=y)\n",
    "\n",
    "model = MultinomialNB()\n",
    "model.fit(X_train, y_train)\n",
    "predictions = model.predict(X_test)\n",
    "\n",
    "print(\"\\nClassification Report:\")\n",
    "print(classification_report(y_test, predictions, zero_division=1))\n"
   ]
  },
  {
   "cell_type": "code",
   "execution_count": null,
   "id": "5d355bbd-f27b-4770-b011-f801aded2044",
   "metadata": {},
   "outputs": [],
   "source": []
  }
 ],
 "metadata": {
  "kernelspec": {
   "display_name": "Python 3 (ipykernel)",
   "language": "python",
   "name": "python3"
  },
  "language_info": {
   "codemirror_mode": {
    "name": "ipython",
    "version": 3
   },
   "file_extension": ".py",
   "mimetype": "text/x-python",
   "name": "python",
   "nbconvert_exporter": "python",
   "pygments_lexer": "ipython3",
   "version": "3.12.7"
  }
 },
 "nbformat": 4,
 "nbformat_minor": 5
}
